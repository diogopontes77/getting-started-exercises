{
 "cells": [
  {
   "cell_type": "code",
   "execution_count": 7,
   "id": "8c4f5384",
   "metadata": {},
   "outputs": [],
   "source": [
    "import pandas as pd\n",
    "from sklearn.ensemble import RandomForestClassifier, RandomForestRegressor\n",
    "from sklearn.datasets import make_classification\n",
    "from sklearn.model_selection import train_test_split\n",
    "from sklearn.metrics import accuracy_score, classification_report\n"
   ]
  },
  {
   "cell_type": "code",
   "execution_count": 10,
   "id": "9de3bb23",
   "metadata": {},
   "outputs": [
    {
     "name": "stdout",
     "output_type": "stream",
     "text": [
      "<class 'pandas.core.frame.DataFrame'>\n",
      "RangeIndex: 1000 entries, 0 to 999\n",
      "Data columns (total 21 columns):\n",
      " #   Column                  Non-Null Count  Dtype  \n",
      "---  ------                  --------------  -----  \n",
      " 0   checking_status         1000 non-null   object \n",
      " 1   duration                1000 non-null   int64  \n",
      " 2   credit_history          1000 non-null   object \n",
      " 3   purpose                 1000 non-null   object \n",
      " 4   credit_amount           1000 non-null   float64\n",
      " 5   savings_status          1000 non-null   object \n",
      " 6   employment              1000 non-null   object \n",
      " 7   installment_commitment  1000 non-null   int64  \n",
      " 8   personal_status         1000 non-null   object \n",
      " 9   other_parties           1000 non-null   object \n",
      " 10  residence_since         1000 non-null   int64  \n",
      " 11  property_magnitude      1000 non-null   object \n",
      " 12  age                     1000 non-null   int64  \n",
      " 13  other_payment_plans     1000 non-null   object \n",
      " 14  housing                 1000 non-null   object \n",
      " 15  existing_credits        1000 non-null   int64  \n",
      " 16  job                     1000 non-null   object \n",
      " 17  num_dependents          1000 non-null   int64  \n",
      " 18  own_telephone           1000 non-null   object \n",
      " 19  foreign_worker          1000 non-null   object \n",
      " 20  class                   1000 non-null   object \n",
      "dtypes: float64(1), int64(6), object(14)\n",
      "memory usage: 164.2+ KB\n"
     ]
    }
   ],
   "source": [
    "df = pd.read_csv('DatasetCredit-g.csv')\n",
    "\n",
    "# Display the first few rows\n",
    "#print(df.head())\n",
    "df.info()"
   ]
  },
  {
   "cell_type": "code",
   "execution_count": null,
   "id": "f6bb5eed",
   "metadata": {},
   "outputs": [],
   "source": [
    "\n",
    "data_frame = pd.DataFrame(df, columns=[\"class\",\"foreign_worker\"])\n",
    "print(data_frame)"
   ]
  },
  {
   "cell_type": "code",
   "execution_count": 3,
   "id": "6c61e3ab",
   "metadata": {},
   "outputs": [
    {
     "name": "stdout",
     "output_type": "stream",
     "text": [
      "    checking_status  duration                  credit_history  \\\n",
      "0                <0         6  critical/other existing credit   \n",
      "1          0<=X<200        48                   existing paid   \n",
      "2       no checking        12  critical/other existing credit   \n",
      "3                <0        42                   existing paid   \n",
      "4                <0        24              delayed previously   \n",
      "..              ...       ...                             ...   \n",
      "995     no checking        12                   existing paid   \n",
      "996              <0        30                   existing paid   \n",
      "997     no checking        12                   existing paid   \n",
      "998              <0        45                   existing paid   \n",
      "999        0<=X<200        45  critical/other existing credit   \n",
      "\n",
      "                 purpose  credit_amount    savings_status  employment  \\\n",
      "0               radio/tv         1169.0  no known savings         >=7   \n",
      "1               radio/tv         5951.0              <100      1<=X<4   \n",
      "2              education         2096.0              <100      4<=X<7   \n",
      "3    furniture/equipment         7882.0              <100      4<=X<7   \n",
      "4                new car         4870.0              <100      1<=X<4   \n",
      "..                   ...            ...               ...         ...   \n",
      "995  furniture/equipment         1736.0              <100      4<=X<7   \n",
      "996             used car         3857.0              <100      1<=X<4   \n",
      "997             radio/tv          804.0              <100         >=7   \n",
      "998             radio/tv         1845.0              <100      1<=X<4   \n",
      "999             used car         4576.0        100<=X<500  unemployed   \n",
      "\n",
      "     installment_commitment     personal_status other_parties  ...  \\\n",
      "0                         4         male single          none  ...   \n",
      "1                         2  female div/dep/mar          none  ...   \n",
      "2                         2         male single          none  ...   \n",
      "3                         2         male single     guarantor  ...   \n",
      "4                         3         male single          none  ...   \n",
      "..                      ...                 ...           ...  ...   \n",
      "995                       3  female div/dep/mar          none  ...   \n",
      "996                       4        male div/sep          none  ...   \n",
      "997                       4         male single          none  ...   \n",
      "998                       4         male single          none  ...   \n",
      "999                       3         male single          none  ...   \n",
      "\n",
      "     other_payment_plans   housing  existing_credits  \\\n",
      "0                   none       own                 2   \n",
      "1                   none       own                 1   \n",
      "2                   none       own                 1   \n",
      "3                   none  for free                 1   \n",
      "4                   none  for free                 2   \n",
      "..                   ...       ...               ...   \n",
      "995                 none       own                 1   \n",
      "996                 none       own                 1   \n",
      "997                 none       own                 1   \n",
      "998                 none  for free                 1   \n",
      "999                 none       own                 1   \n",
      "\n",
      "                           job num_dependents  own_telephone foreign_worker  \\\n",
      "0                      skilled              1            yes            yes   \n",
      "1                      skilled              1           none            yes   \n",
      "2           unskilled resident              2           none            yes   \n",
      "3                      skilled              2           none            yes   \n",
      "4                      skilled              2           none            yes   \n",
      "..                         ...            ...            ...            ...   \n",
      "995         unskilled resident              1           none            yes   \n",
      "996  high qualif/self emp/mgmt              1            yes            yes   \n",
      "997                    skilled              1           none            yes   \n",
      "998                    skilled              1            yes            yes   \n",
      "999                    skilled              1           none            yes   \n",
      "\n",
      "     class class_binary foreign  \n",
      "0     good            1       1  \n",
      "1      bad            0       1  \n",
      "2     good            1       1  \n",
      "3     good            1       1  \n",
      "4      bad            0       1  \n",
      "..     ...          ...     ...  \n",
      "995   good            1       1  \n",
      "996   good            1       1  \n",
      "997   good            1       1  \n",
      "998    bad            0       1  \n",
      "999   good            1       1  \n",
      "\n",
      "[1000 rows x 23 columns]\n"
     ]
    }
   ],
   "source": [
    "\n",
    "\n",
    "# Example DataFrame\n",
    "#data_frame = pd.DataFrame({'Category': ['cinema', 'education', 'cinema', 'education']})\n",
    "\n",
    "# Define mapping\n",
    "mapping_foreign = {'no': 0, 'yes': 1}\n",
    "mapping = {'bad': 0, 'good': 1}\n",
    "\n",
    "# Apply mapping\n",
    "df['class_binary'] = df['class'].map(mapping)\n",
    "df['foreign'] = df['foreign_worker'].map(mapping_foreign)\n",
    "df.drop(columns=['foreign_worker', 'class'])\n",
    "print(df)"
   ]
  },
  {
   "cell_type": "code",
   "execution_count": null,
   "id": "1034ee12",
   "metadata": {
    "vscode": {
     "languageId": "javascript"
    }
   },
   "outputs": [],
   "source": [
    "// df_binary = pd.get_dummies(data_frame[\"class\",\"foreign_worker\"], prefix='Binary')\n",
    "// print(df_binary)\n"
   ]
  },
  {
   "cell_type": "code",
   "execution_count": null,
   "id": "a2ae2648",
   "metadata": {
    "vscode": {
     "languageId": "javascript"
    }
   },
   "outputs": [],
   "source": [
    "// Isto preve o risco por agora, dps usar  amesma logica ma para credito, ja temos de criar outro modelo\n",
    "// Com o teste, verifica a previsao e verifica overfitting e isso"
   ]
  },
  {
   "cell_type": "code",
   "execution_count": 8,
   "id": "9af521fa",
   "metadata": {
    "vscode": {
     "languageId": "javascript"
    }
   },
   "outputs": [
    {
     "name": "stdout",
     "output_type": "stream",
     "text": [
      "              precision    recall  f1-score   support\n",
      "\n",
      "           0       1.00      1.00      1.00        91\n",
      "           1       1.00      1.00      1.00       209\n",
      "\n",
      "    accuracy                           1.00       300\n",
      "   macro avg       1.00      1.00      1.00       300\n",
      "weighted avg       1.00      1.00      1.00       300\n",
      "\n"
     ]
    }
   ],
   "source": [
    "\n",
    "data_x = df.drop(columns=[\"class_binary\"])\n",
    "X= data_x\n",
    "y= df[\"class_binary\"]\n",
    "\n",
    "X = pd.get_dummies(X, drop_first=True)\n",
    "\n",
    "X_train, X_test, y_train, y_test = train_test_split(X,y, test_size=0.3, random_state=42)\n",
    "\n",
    "rf_classifier = RandomForestClassifier(n_estimators=100, random_state=42)\n",
    "rf_classifier.fit(X_train, y_train)\n",
    "\n",
    "y_pred = rf_classifier.predict(X_test)\n",
    "\n",
    "print(classification_report(y_pred, y_test)) \n",
    "\n"
   ]
  },
  {
   "cell_type": "code",
   "execution_count": null,
   "id": "9db4bb03",
   "metadata": {
    "vscode": {
     "languageId": "javascript"
    }
   },
   "outputs": [],
   "source": [
    "param_grid_search = {\n",
    "    'n_estimators': [100,200],\n",
    "    'max_depth': [None, 10, 20],\n",
    "    'min_samples_split': [2,5],\n",
    "    'min_samples_leaf': [1,2]\n",
    "}\n",
    "\n",
    "grid_search = GridSearchCV(RandomForestClassifier(), param_grid = param_grid_search. cv=5)\n",
    "grid_search.fit(X_train, y_train)\n",
    "\n",
    "print(\"Best Parameters:\", grid_search.best_params_)\n",
    "print(\"Best Estimator:\", grid_search.best_estimator_)"
   ]
  },
  {
   "cell_type": "code",
   "execution_count": null,
   "id": "870be5f6",
   "metadata": {
    "vscode": {
     "languageId": "javascript"
    }
   },
   "outputs": [],
   "source": [
    "random_search = RandomizedSearchCV(RandomForestClassifier(),\n",
    "                                   param_grid)\n",
    "random_search.fit(X_train, y_train)\n",
    "print(random_search.best_estimator_) // este random search demora mais mas costuma dar melhor resultados, que o problema do gridsearch é que sao valores já que nos definimos"
   ]
  },
  {
   "cell_type": "code",
   "execution_count": null,
   "id": "680d2a5d",
   "metadata": {},
   "outputs": [],
   "source": [
    "#Aqui o P é o valor previsto do nosso modelo, o Y é o suposto \"desejado\", não sei bem o que quer dizer\n",
    "#tenho que fazer dois modelos, um para prever o risco e outro para prever o credit amount requested mesmo para utilizar na função como o P\n",
    "\n",
    "def calculate_f(Y, P):\n",
    "    if abs(Y - P) / Y < 0.3:\n",
    "        return 100\n",
    "    else:\n",
    "        return 0\n"
   ]
  },
  {
   "cell_type": "code",
   "execution_count": null,
   "id": "a768067d",
   "metadata": {},
   "outputs": [],
   "source": [
    "# Test the function with different Y and P values\n",
    "Y = 100\n",
    "P = 70\n",
    "\n",
    "result = calculate_f(Y, P)\n",
    "print(f\"f({Y}, {P}) = {result}\")\n"
   ]
  },
  {
   "cell_type": "code",
   "execution_count": null,
   "id": "e1973200",
   "metadata": {},
   "outputs": [],
   "source": [
    "# Utilizar XGBoost regression como usaste em DAA, ver como fizeste isso em DAA"
   ]
  },
  {
   "cell_type": "code",
   "execution_count": null,
   "id": "bb19dbdb",
   "metadata": {},
   "outputs": [],
   "source": [
    "# falta me só ver como é que vou passar as labels"
   ]
  }
 ],
 "metadata": {
  "kernelspec": {
   "display_name": "Python 3",
   "language": "python",
   "name": "python3"
  },
  "language_info": {
   "codemirror_mode": {
    "name": "ipython",
    "version": 3
   },
   "file_extension": ".py",
   "mimetype": "text/x-python",
   "name": "python",
   "nbconvert_exporter": "python",
   "pygments_lexer": "ipython3",
   "version": "3.8.10"
  }
 },
 "nbformat": 4,
 "nbformat_minor": 5
}
